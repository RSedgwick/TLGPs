{
 "cells": [
  {
   "cell_type": "code",
   "execution_count": null,
   "metadata": {
    "pycharm": {
     "is_executing": true
    }
   },
   "outputs": [],
   "source": [
    "import pathlib as pl\n",
    "import warnings\n",
    "warnings.simplefilter(\"ignore\")\n",
    "from utils.analysis_utils import load_hyperparameters, fit_model_from_hyperparameters\n",
    "# mpl.style.use('mystyle.mplstyle')\n",
    "from utils.plotting_utils import  plot_all_models_from_hyperparameters, plot_log_marginal_likelihoods_of_restarts\n",
    "\n",
    "full_width = 7.5\n",
    "halfwidth = 3.5\n"
   ]
  },
  {
   "cell_type": "markdown",
   "metadata": {
    "pycharm": {
     "name": "#%% md\n"
    }
   },
   "source": [
    "# Notebook for Plotting Predictions from Saved Hyperparameters and the Log Marginal Likelihoods of each Initialisation"
   ]
  },
  {
   "cell_type": "markdown",
   "source": [
    "Plot the predictions of each of the models for a given certain surface type, seed and number of points"
   ],
   "metadata": {
    "collapsed": false,
    "pycharm": {
     "name": "#%% md\n"
    }
   },
   "outputs": [
    {
     "ename": "SyntaxError",
     "evalue": "invalid syntax (1848822432.py, line 1)",
     "output_type": "error",
     "traceback": [
      "\u001B[0;36m  Cell \u001B[0;32mIn[45], line 1\u001B[0;36m\u001B[0m\n\u001B[0;31m    Plot the predictions of each of the models for a given certain surface type, seed and number of points\u001B[0m\n\u001B[0m         ^\u001B[0m\n\u001B[0;31mSyntaxError\u001B[0m\u001B[0;31m:\u001B[0m invalid syntax\n"
     ]
    }
   ],
   "execution_count": 45
  },
  {
   "cell_type": "code",
   "execution_count": null,
   "metadata": {
    "pycharm": {
     "name": "#%%\n",
     "is_executing": true
    }
   },
   "outputs": [],
   "source": [
    "surface_type = 'linear_relation'\n",
    "test_type = 'two_observed_10_new'\n",
    "n_new_points = 8\n",
    "seed = 3\n",
    "dataseed = 3\n",
    "\n",
    "path = pl.Path.home()/ \\\n",
    "       f'Transfer_Learning_GP_Results/hyperparameters/hyperparameters_{surface_type}_{test_type}_{n_new_points}_points_seed_{seed}_dataseed_{dataseed}.pkl'\n",
    "\n",
    "hyperparams = load_hyperparameters(path)"
   ]
  },
  {
   "cell_type": "code",
   "execution_count": null,
   "outputs": [],
   "source": [
    "hyperparams['final_lml'] = [hyperparams['lmls'].to_numpy()[i][-1] for i in range(len(hyperparams))]"
   ],
   "metadata": {
    "collapsed": false,
    "pycharm": {
     "name": "#%%\n",
     "is_executing": true
    }
   }
  },
  {
   "cell_type": "markdown",
   "source": [
    "Create each model from the saved hyperparameter"
   ],
   "metadata": {
    "collapsed": false,
    "pycharm": {
     "name": "#%% md\n"
    }
   }
  },
  {
   "cell_type": "code",
   "execution_count": null,
   "outputs": [],
   "source": [
    "\n",
    "\n",
    "gps = {model_name: None for model_name in ['mo_indi', 'avg', 'lmc', 'lvmogp']}\n",
    "for model_name in ['mo_indi', 'avg', 'lmc', 'lvmogp']:\n",
    "       print(model_name)\n",
    "       mod_df = hyperparams[hyperparams['model'] == model_name]\n",
    "       gps[model_name] = fit_model_from_hyperparameters(mod_df)"
   ],
   "metadata": {
    "collapsed": false,
    "pycharm": {
     "name": "#%%\n",
     "is_executing": true
    }
   }
  },
  {
   "cell_type": "markdown",
   "source": [
    "Make predictions and plot each model"
   ],
   "metadata": {
    "collapsed": false,
    "pycharm": {
     "name": "#%% md\n"
    }
   }
  },
  {
   "cell_type": "code",
   "execution_count": null,
   "outputs": [],
   "source": [
    "plot_all_models_from_hyperparameters(gps, hyperparams, plot_new_ys=False, save_fig=False, save_path=None)"
   ],
   "metadata": {
    "collapsed": false,
    "pycharm": {
     "name": "#%%\n",
     "is_executing": true
    }
   }
  },
  {
   "cell_type": "markdown",
   "source": [
    "For the log marginal likelihoods, first load all the hyperparameter pickles, then make plots"
   ],
   "metadata": {
    "collapsed": false,
    "pycharm": {
     "name": "#%% md\n"
    }
   }
  },
  {
   "cell_type": "code",
   "execution_count": null,
   "outputs": [],
   "source": [
    "from utils.analysis_utils import load_all_hyperparameters\n",
    "\n",
    "hyp_df = load_all_hyperparameters()\n",
    "hyp_df['final_lml'] = [hyp_df['lmls'].to_list()[i][-1] for i in range(len(hyp_df))]"
   ],
   "metadata": {
    "collapsed": false,
    "pycharm": {
     "name": "#%%\n",
     "is_executing": true
    }
   }
  },
  {
   "cell_type": "code",
   "execution_count": null,
   "outputs": [],
   "source": [
    "seed = 2\n",
    "data_seed = 3\n",
    "\n",
    "plot_log_marginal_likelihoods_of_restarts(hyp_df, seed, data_seed)"
   ],
   "metadata": {
    "collapsed": false,
    "pycharm": {
     "name": "#%%\n",
     "is_executing": true
    }
   }
  },
  {
   "cell_type": "code",
   "execution_count": null,
   "outputs": [],
   "source": [],
   "metadata": {
    "collapsed": false,
    "pycharm": {
     "name": "#%%\n",
     "is_executing": true
    }
   }
  }
 ],
 "metadata": {
  "kernelspec": {
   "display_name": "Python 3 (ipykernel)",
   "language": "python",
   "name": "python3"
  },
  "language_info": {
   "codemirror_mode": {
    "name": "ipython",
    "version": 3
   },
   "file_extension": ".py",
   "mimetype": "text/x-python",
   "name": "python",
   "nbconvert_exporter": "python",
   "pygments_lexer": "ipython3",
   "version": "3.9.16"
  }
 },
 "nbformat": 4,
 "nbformat_minor": 1
}