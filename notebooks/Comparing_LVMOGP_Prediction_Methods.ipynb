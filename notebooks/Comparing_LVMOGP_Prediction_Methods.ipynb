{
 "cells": [
  {
   "cell_type": "code",
   "execution_count": 8,
   "outputs": [],
   "source": [
    "import gpflow\n",
    "import numpy as np\n",
    "import pandas as pd\n",
    "import tensorflow as tf\n",
    "from gpflow.base import _cast_to_dtype\n",
    "from models.test_functions import TestFunLinearCorrelation\n",
    "from gpflow.utilities import to_default_float, print_summary\n",
    "from gpflow.config import default_float\n",
    "# from gpflow.ci_utils import ci_niter\n",
    "import matplotlib.pyplot as plt\n",
    "from matplotlib.patches import Ellipse\n",
    "from models.utils import build_models, train_models, get_final_models_dict, get_gridpoints, get_nlpd, get_abs_error\n",
    "from models.lvmogp import LVMOGP"
   ],
   "metadata": {
    "collapsed": false,
    "pycharm": {
     "name": "#%%\n"
    }
   }
  },
  {
   "cell_type": "markdown",
   "source": [
    "# LVMOGP with Different Prediction Method\n",
    "\n",
    "This notebook demonstrates the difference of behaviours of the two prediction methods.\n",
    "\n",
    "Predict method 1 - only using the mean of the latent variables\n",
    "\n",
    "Predict method 2 - taking the expectation over the latent variable locations i.e. q(H)\n",
    "\n",
    "\n",
    "- [Create the Test Function](#part1)\n",
    "- [Set Hyperparameters for LVMOGPs](#part5)\n",
    "- [Create LVMOGP and Predict using Method 1](#part2)\n",
    "- [Create LVMOGP and Predict using Method 2](#part3)\n",
    "- [Create LVMOGP and Predict using Method 2 with no latent variance](#part4)\n",
    "\n"
   ],
   "metadata": {
    "collapsed": false
   }
  },
  {
   "cell_type": "markdown",
   "source": [
    "[Back to top](#Index:)\n",
    "\n",
    "<a id='part1'></a>\n",
    "\n",
    "## Create the Test Functions\n",
    "\n",
    "Here we use the TestFun class to create a test function with the dimensions, latent dims, number of functions and noise\n",
    "that we want.\n"
   ],
   "metadata": {
    "collapsed": false
   }
  },
  {
   "cell_type": "code",
   "execution_count": 9,
   "outputs": [],
   "source": [
    "seed = 1\n",
    "np.random.seed(seed)\n",
    "tf.random.set_seed(seed)"
   ],
   "metadata": {
    "collapsed": false,
    "pycharm": {
     "name": "#%%\n"
    }
   }
  },
  {
   "cell_type": "code",
   "execution_count": 34,
   "outputs": [
    {
     "ename": "TypeError",
     "evalue": "list indices must be integers or slices, not tuple",
     "output_type": "error",
     "traceback": [
      "\u001B[0;31m---------------------------------------------------------------------------\u001B[0m",
      "\u001B[0;31mTypeError\u001B[0m                                 Traceback (most recent call last)",
      "Cell \u001B[0;32mIn[34], line 28\u001B[0m\n\u001B[1;32m     25\u001B[0m \u001B[38;5;66;03m# have option to plot and save test function\u001B[39;00m\n\u001B[1;32m     27\u001B[0m \u001B[38;5;28;01mif\u001B[39;00m plot_figs:\n\u001B[0;32m---> 28\u001B[0m     \u001B[43mtest_fun\u001B[49m\u001B[38;5;241;43m.\u001B[39;49m\u001B[43mplot_data_seperate_plots\u001B[49m\u001B[43m(\u001B[49m\u001B[43mn_points\u001B[49m\u001B[38;5;241;43m=\u001B[39;49m\u001B[43mn_points\u001B[49m\u001B[43m)\u001B[49m\n",
      "File \u001B[0;32m~/Transfer_Learning_Gaussian_Processes/models/test_functions.py:176\u001B[0m, in \u001B[0;36m_TestFun.plot_data_seperate_plots\u001B[0;34m(self, n_points)\u001B[0m\n\u001B[1;32m    174\u001B[0m idx \u001B[38;5;241m=\u001B[39m np\u001B[38;5;241m.\u001B[39mwhere(\u001B[38;5;28mself\u001B[39m\u001B[38;5;241m.\u001B[39mfun_no \u001B[38;5;241m==\u001B[39m i)\n\u001B[1;32m    175\u001B[0m \u001B[38;5;28;01mif\u001B[39;00m n_points:\n\u001B[0;32m--> 176\u001B[0m     x_ \u001B[38;5;241m=\u001B[39m \u001B[38;5;28;43mself\u001B[39;49m\u001B[38;5;241;43m.\u001B[39;49m\u001B[43mxs\u001B[49m\u001B[43m[\u001B[49m\u001B[43midx\u001B[49m\u001B[43m]\u001B[49m[:n_points[i]]\n\u001B[1;32m    177\u001B[0m     y_ \u001B[38;5;241m=\u001B[39m \u001B[38;5;28mself\u001B[39m\u001B[38;5;241m.\u001B[39mys[idx][:n_points[i]]\n\u001B[1;32m    178\u001B[0m \u001B[38;5;28;01melse\u001B[39;00m:\n",
      "\u001B[0;31mTypeError\u001B[0m: list indices must be integers or slices, not tuple"
     ]
    },
    {
     "data": {
      "text/plain": "<Figure size 1500x300 with 5 Axes>",
      "image/png": "[encoded data removed]"
     },
     "metadata": {},
     "output_type": "display_data"
    }
   ],
   "source": [
    "model_names = ['lvmogp']\n",
    "same_points = False\n",
    "plot_figs = True\n",
    "opt_seed = np.random.randint(0, 100)\n",
    "domain = [0, 2]\n",
    "latent_dims = 2\n",
    "observed_dims = 1\n",
    "n_points = 16 #16 #30 #16\n",
    "max_points = n_points\n",
    "noise = 0.05\n",
    "n_grid_points = 100\n",
    "continuous_dims = ['x1', 'x2'][:observed_dims]\n",
    "lengthscales_x = [0.3, 0.3]\n",
    "n_new_points = 2\n",
    "n_new_funs = 3\n",
    "n_fun = 2 + n_new_funs\n",
    "total_train = 10 * 2 + 3 * n_new_points  # total number of training points\n",
    "n_points = [10, 5, 4, 3, 2]# number of points on each surface\n",
    "\n",
    "test_fun = TestFunLinearCorrelation(domain, seed, n_fun, observed_dims, latent_dims, max_points, noise, n_grid_points,\n",
    "                                    same_points, lengthscales_x)\n",
    "\n",
    "data_X, fun_nos, data_y = test_fun.create_data(n_points=n_points)\n",
    "\n",
    "# have option to plot and save test function\n",
    "\n",
    "if plot_figs:\n",
    "    test_fun.plot_data_seperate_plots(n_points=n_points) #n_points=n_points"
   ],
   "metadata": {
    "collapsed": false,
    "pycharm": {
     "name": "#%%\n"
    }
   }
  },
  {
   "cell_type": "markdown",
   "source": [
    "## Fit the LVMOGP"
   ],
   "metadata": {
    "collapsed": false
   }
  },
  {
   "cell_type": "code",
   "execution_count": 35,
   "outputs": [
    {
     "name": "stdout",
     "output_type": "stream",
     "text": [
      "successful build model lvmogp, restart 0, init_type random\n",
      "successful build model lvmogp, restart 0, init_type mo_pca\n",
      "successful build model lvmogp, restart 0, init_type gpy\n"
     ]
    },
    {
     "name": "stderr",
     "output_type": "stream",
     "text": [
      "/home/ruby/anaconda3/envs/tlgps/lib/python3.9/site-packages/numpy/core/_methods.py:164: VisibleDeprecationWarning: Creating an ndarray from ragged nested sequences (which is a list-or-tuple of lists-or-tuples-or ndarrays with different lengths or shapes) is deprecated. If you meant to do this, you must specify 'dtype=object' when creating the ndarray.\n",
      "  arr = asanyarray(a)\n"
     ]
    }
   ],
   "source": [
    "models_dict = build_models(model_names, data_X, data_y, fun_nos, n_fun, observed_dims, latent_dims, 2,\n",
    "                           domain, n_restarts=1)"
   ],
   "metadata": {
    "collapsed": false,
    "pycharm": {
     "name": "#%%\n"
    }
   }
  },
  {
   "cell_type": "code",
   "execution_count": null,
   "outputs": [],
   "source": [
    "models_dict, lmls = train_models(models_dict)"
   ],
   "metadata": {
    "collapsed": false,
    "pycharm": {
     "name": "#%%\n",
     "is_executing": true
    }
   }
  },
  {
   "cell_type": "code",
   "execution_count": null,
   "outputs": [],
   "source": [
    "final_models_dict = get_final_models_dict(models_dict)"
   ],
   "metadata": {
    "collapsed": false,
    "pycharm": {
     "name": "#%%\n",
     "is_executing": true
    }
   }
  },
  {
   "cell_type": "code",
   "execution_count": null,
   "outputs": [],
   "source": [
    "lvmogp = final_models_dict['lvmogp']"
   ],
   "metadata": {
    "collapsed": false,
    "pycharm": {
     "name": "#%%\n",
     "is_executing": true
    }
   }
  },
  {
   "cell_type": "markdown",
   "source": [
    "[Back to top](#Index:)\n",
    "\n",
    "<a id='part2'></a>\n",
    "\n",
    "## Predict On Grid Using Predict Method 1\n"
   ],
   "metadata": {
    "collapsed": false
   }
  },
  {
   "cell_type": "code",
   "execution_count": null,
   "outputs": [],
   "source": [
    "x_new, fun_nos, _, x_new_lvmogp = get_gridpoints(domain, n_fun, final_models_dict, observed_dims, n_points=100)"
   ],
   "metadata": {
    "collapsed": false,
    "pycharm": {
     "name": "#%%\n",
     "is_executing": true
    }
   }
  },
  {
   "cell_type": "code",
   "execution_count": null,
   "outputs": [],
   "source": [
    "pred_mu_1, pred_var_1 = lvmogp.predict_f_point_predictions(x_new_lvmogp[0])\n",
    "pred_var_1 = pred_var_1 + tf.linalg.diag([lvmogp.likelihood.variance.numpy()]*len(tf.linalg.diag_part(pred_var_1) ))"
   ],
   "metadata": {
    "collapsed": false,
    "pycharm": {
     "name": "#%%\n",
     "is_executing": true
    }
   }
  },
  {
   "cell_type": "markdown",
   "source": [
    "[Back to top](#Index:)\n",
    "\n",
    "<a id='part3'></a>\n",
    "\n",
    "## Predict On Grid Using Predict Method 2"
   ],
   "metadata": {
    "collapsed": false
   }
  },
  {
   "cell_type": "code",
   "execution_count": null,
   "outputs": [],
   "source": [
    "pred_mu_2, pred_var_2 = lvmogp.predict_y(x_new_lvmogp)"
   ],
   "metadata": {
    "collapsed": false,
    "pycharm": {
     "name": "#%%\n",
     "is_executing": true
    }
   }
  },
  {
   "cell_type": "markdown",
   "source": [
    "[Back to top](#Index:)\n",
    "\n",
    "<a id='part4'></a>\n",
    "\n",
    "## Compare Predict Methods"
   ],
   "metadata": {
    "collapsed": false
   }
  },
  {
   "cell_type": "markdown",
   "source": [
    "Plot the predictions"
   ],
   "metadata": {
    "collapsed": false
   }
  },
  {
   "cell_type": "code",
   "execution_count": null,
   "outputs": [],
   "source": [
    "ys_new = []\n",
    "for fun in test_fun.functions:\n",
    "    y_new, _ = fun.predict_y(x_new.reshape(100, 1))\n",
    "    ys_new.append(y_new)\n",
    "\n",
    "\n",
    "predict_dict = {'method 1': [pred_mu_1, pred_var_1], 'method 2': [pred_mu_2, pred_var_2]}\n",
    "\n",
    "for method_name, predictions in predict_dict.items():\n",
    "    pred_mu, pred_var = predictions\n",
    "    fig, axs = plt.subplots(nrows=1, ncols=n_fun, figsize=(20, 3))\n",
    "    for i, fun_no in enumerate(range(n_fun)):\n",
    "        idx = range(n_grid_points * i, n_grid_points * (i + 1))\n",
    "        axs[i].plot(x_new, pred_mu.numpy()[idx].flatten())\n",
    "        axs[i].fill_between(x_new.flatten(),\n",
    "                            pred_mu.numpy()[idx].flatten() + np.sqrt(pred_var.numpy()[idx].flatten()),\n",
    "                            pred_mu.numpy()[idx].flatten() - np.sqrt(pred_var.numpy()[idx].flatten()), alpha=0.2)\n",
    "        axs[i].plot(x_new, ys_new[i].numpy(), linestyle=':')\n",
    "        idx_train = np.where([test_fun.fun_no == fun_no])[1]\n",
    "        axs[i].scatter(test_fun.X[idx_train], test_fun.y[idx_train])\n",
    "        axs[i].set_ylim(np.min(data_y) - 0.2, np.max(data_y) + 0.2)\n",
    "        axs[i].set_title(method_name)"
   ],
   "metadata": {
    "collapsed": false,
    "pycharm": {
     "name": "#%%\n",
     "is_executing": true
    }
   }
  },
  {
   "cell_type": "markdown",
   "source": [
    "Plot them on top of each other:"
   ],
   "metadata": {
    "collapsed": false,
    "pycharm": {
     "name": "#%% md\n"
    }
   }
  },
  {
   "cell_type": "code",
   "execution_count": null,
   "outputs": [],
   "source": [
    "fig, axs = plt.subplots(nrows=1, ncols=n_fun, figsize=(20, 3))\n",
    "for method_name, predictions in predict_dict.items():\n",
    "    pred_mu, pred_var = predictions\n",
    "    for i, fun_no in enumerate(range(n_fun)):\n",
    "        idx = range(n_grid_points * i, n_grid_points * (i + 1))\n",
    "        axs[i].plot(x_new, pred_mu.numpy()[idx].flatten())\n",
    "        axs[i].fill_between(x_new.flatten(),\n",
    "                            pred_mu.numpy()[idx].flatten() + np.sqrt(pred_var.numpy()[idx].flatten()),\n",
    "                            pred_mu.numpy()[idx].flatten() - np.sqrt(pred_var.numpy()[idx].flatten()), alpha=0.2)\n",
    "        axs[i].plot(x_new, ys_new[i].numpy(), linestyle=':')\n",
    "        idx_train = np.where([test_fun.fun_no == fun_no])[1]\n",
    "        axs[i].scatter(test_fun.X[idx_train], test_fun.y[idx_train])\n",
    "        axs[i].set_ylim(np.min(data_y) - 0.2, np.max(data_y) + 0.2)\n",
    "        axs[i].set_title(method_name)\n"
   ],
   "metadata": {
    "collapsed": false,
    "pycharm": {
     "name": "#%%\n",
     "is_executing": true
    }
   }
  },
  {
   "cell_type": "markdown",
   "source": [
    "\n",
    "Calculate the root mean squared error (RMSE) and negative log predictive density (NLPD)"
   ],
   "metadata": {
    "collapsed": false
   }
  },
  {
   "cell_type": "code",
   "execution_count": null,
   "outputs": [],
   "source": [
    "res_dfs = []\n",
    "for method_name, predictions in predict_dict.items():\n",
    "    NLPDs = []\n",
    "    RMSEs = []\n",
    "    NLPDs_new_only = []\n",
    "    RMSEs_new_only = []\n",
    "    pred_mu, pred_var = predictions\n",
    "    for i, fun_no in enumerate(range(n_fun)):\n",
    "        idx = range(n_grid_points * i, n_grid_points * (i + 1))\n",
    "        mu = pred_mu.numpy()[idx].flatten()\n",
    "        sig2 = pred_var.numpy()[idx].flatten()\n",
    "        nlpds = get_nlpd(mu, sig2, ys_new[i].numpy().flatten())\n",
    "        abs_errors = get_abs_error(mu, ys_new[i].numpy().flatten())\n",
    "        NLPDs.append(nlpds)\n",
    "        RMSEs.append(abs_errors)\n",
    "        if fun_no >= (n_fun - n_new_funs):\n",
    "            # print(fun_no)\n",
    "            NLPDs_new_only.append(nlpds)\n",
    "            RMSEs_new_only.append(abs_errors)\n",
    "    nlpd = np.mean(NLPDs)\n",
    "    rmse = np.sqrt(np.mean(np.square(RMSEs)))\n",
    "    nlpd_new_only = np.mean(NLPDs_new_only)\n",
    "    rmse_new_only = np.sqrt(np.mean(np.square(RMSEs_new_only)))\n",
    "    row_df = pd.DataFrame(data=[[method_name, nlpd, rmse, nlpd_new_only, rmse_new_only]],\n",
    "                          columns=['model', 'nlpd', 'rmse', 'nlpd_new_surface', 'rmse_new_surface'])\n",
    "    res_dfs.append(row_df)\n",
    "results_df = pd.concat(res_dfs)\n",
    "print(results_df)"
   ],
   "metadata": {
    "collapsed": false,
    "pycharm": {
     "name": "#%%\n",
     "is_executing": true
    }
   }
  },
  {
   "cell_type": "code",
   "execution_count": 33,
   "outputs": [],
   "source": [],
   "metadata": {
    "collapsed": false,
    "pycharm": {
     "name": "#%%\n"
    }
   }
  },
  {
   "cell_type": "code",
   "execution_count": 33,
   "outputs": [],
   "source": [],
   "metadata": {
    "collapsed": false,
    "pycharm": {
     "name": "#%%\n"
    }
   }
  },
  {
   "cell_type": "code",
   "execution_count": null,
   "outputs": [],
   "source": [],
   "metadata": {
    "collapsed": false,
    "pycharm": {
     "name": "#%%\n"
    }
   }
  }
 ],
 "metadata": {
  "kernelspec": {
   "display_name": "Python 3",
   "language": "python",
   "name": "python3"
  },
  "language_info": {
   "codemirror_mode": {
    "name": "ipython",
    "version": 2
   },
   "file_extension": ".py",
   "mimetype": "text/x-python",
   "name": "python",
   "nbconvert_exporter": "python",
   "pygments_lexer": "ipython2",
   "version": "2.7.6"
  }
 },
 "nbformat": 4,
 "nbformat_minor": 0
}