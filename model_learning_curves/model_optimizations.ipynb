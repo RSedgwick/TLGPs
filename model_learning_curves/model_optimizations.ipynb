{
 "cells": [
  {
   "cell_type": "code",
   "execution_count": 34,
   "metadata": {
    "collapsed": true
   },
   "outputs": [],
   "source": [
    " import numpy as np\n",
    "import pathlib as pl\n",
    "import os\n",
    "import pandas as pd\n",
    "import warnings\n",
    "warnings.simplefilter(\"ignore\")\n",
    "import pickle\n",
    "import matplotlib.pyplot as plt\n",
    "import matplotlib as mpl\n",
    "\n",
    "\n",
    "# mpl.style.use('mystyle.mplstyle')\n",
    "path = pl.Path.home()/ 'Transfer_Learning_GP_Results'\n",
    "fig_path = pl.Path.home()/'Transfer_Learning_GP_Results/opt_plots'"
   ]
  },
  {
   "cell_type": "code",
   "execution_count": 35,
   "outputs": [],
   "source": [
    "surface_type = 'unrelated_two_observed_10_new' #'non-linear_relation_two_observed_six_new' #'linear_relation' #'unrelated' #'non-linear_relation'\n",
    "results_list = []\n",
    "for n_new_points in range(2,30):\n",
    "    for seed in [1, 2, 3]:\n",
    "        for restarts in [1, 2, 3]:\n",
    "            # print(path/f'hyperparameters/hyperparameters_{surface_type}_{n_new_points}_points_seed_{seed}.pkl')\n",
    "            if os.path.exists(path/f'hyperparameters/hyperparameters_{surface_type}_{n_new_points}_points_seed_{seed}.pkl'):\n",
    "                with open(path/f'hyperparameters/hyperparameters_{surface_type}_{n_new_points}_points_seed_{seed}.pkl', 'rb') as f:\n",
    "                    df = pickle.load(f)\n",
    "                    df['n_new_points'] = n_new_points\n",
    "                    df['seed'] = seed\n",
    "                    results_list.append(df)"
   ],
   "metadata": {
    "collapsed": false,
    "pycharm": {
     "name": "#%%\n"
    }
   }
  },
  {
   "cell_type": "code",
   "execution_count": 36,
   "outputs": [],
   "source": [
    "results_df = pd.concat(results_list)"
   ],
   "metadata": {
    "collapsed": false,
    "pycharm": {
     "name": "#%%\n"
    }
   }
  },
  {
   "cell_type": "markdown",
   "source": [
    "Plot the optimisation of the models\n"
   ],
   "metadata": {
    "collapsed": false
   }
  },
  {
   "cell_type": "code",
   "execution_count": 38,
   "outputs": [
    {
     "ename": "KeyError",
     "evalue": "'surface_type'",
     "output_type": "error",
     "traceback": [
      "\u001B[0;31m---------------------------------------------------------------------------\u001B[0m",
      "\u001B[0;31mKeyError\u001B[0m                                  Traceback (most recent call last)",
      "File \u001B[0;32m~/anaconda3/envs/tlgps/lib/python3.9/site-packages/pandas/core/indexes/base.py:3802\u001B[0m, in \u001B[0;36mIndex.get_loc\u001B[0;34m(self, key, method, tolerance)\u001B[0m\n\u001B[1;32m   3801\u001B[0m \u001B[38;5;28;01mtry\u001B[39;00m:\n\u001B[0;32m-> 3802\u001B[0m     \u001B[38;5;28;01mreturn\u001B[39;00m \u001B[38;5;28;43mself\u001B[39;49m\u001B[38;5;241;43m.\u001B[39;49m\u001B[43m_engine\u001B[49m\u001B[38;5;241;43m.\u001B[39;49m\u001B[43mget_loc\u001B[49m\u001B[43m(\u001B[49m\u001B[43mcasted_key\u001B[49m\u001B[43m)\u001B[49m\n\u001B[1;32m   3803\u001B[0m \u001B[38;5;28;01mexcept\u001B[39;00m \u001B[38;5;167;01mKeyError\u001B[39;00m \u001B[38;5;28;01mas\u001B[39;00m err:\n",
      "File \u001B[0;32m~/anaconda3/envs/tlgps/lib/python3.9/site-packages/pandas/_libs/index.pyx:138\u001B[0m, in \u001B[0;36mpandas._libs.index.IndexEngine.get_loc\u001B[0;34m()\u001B[0m\n",
      "File \u001B[0;32m~/anaconda3/envs/tlgps/lib/python3.9/site-packages/pandas/_libs/index.pyx:165\u001B[0m, in \u001B[0;36mpandas._libs.index.IndexEngine.get_loc\u001B[0;34m()\u001B[0m\n",
      "File \u001B[0;32mpandas/_libs/hashtable_class_helper.pxi:5745\u001B[0m, in \u001B[0;36mpandas._libs.hashtable.PyObjectHashTable.get_item\u001B[0;34m()\u001B[0m\n",
      "File \u001B[0;32mpandas/_libs/hashtable_class_helper.pxi:5753\u001B[0m, in \u001B[0;36mpandas._libs.hashtable.PyObjectHashTable.get_item\u001B[0;34m()\u001B[0m\n",
      "\u001B[0;31mKeyError\u001B[0m: 'surface_type'",
      "\nThe above exception was the direct cause of the following exception:\n",
      "\u001B[0;31mKeyError\u001B[0m                                  Traceback (most recent call last)",
      "Cell \u001B[0;32mIn[38], line 37\u001B[0m\n\u001B[1;32m     34\u001B[0m \u001B[38;5;28;01mfor\u001B[39;00m k, surface_type \u001B[38;5;129;01min\u001B[39;00m \u001B[38;5;28menumerate\u001B[39m(surface_types):\n\u001B[1;32m     35\u001B[0m     \u001B[38;5;28;01mfor\u001B[39;00m j, seed \u001B[38;5;129;01min\u001B[39;00m \u001B[38;5;28menumerate\u001B[39m(seeds):\n\u001B[1;32m     36\u001B[0m         results_df_model \u001B[38;5;241m=\u001B[39m results_df[(results_df[\u001B[38;5;124m'\u001B[39m\u001B[38;5;124mmodel\u001B[39m\u001B[38;5;124m'\u001B[39m] \u001B[38;5;241m==\u001B[39m model) \u001B[38;5;241m&\u001B[39m (results_df[\u001B[38;5;124m'\u001B[39m\u001B[38;5;124mseed\u001B[39m\u001B[38;5;124m'\u001B[39m] \u001B[38;5;241m==\u001B[39m seed)\n\u001B[0;32m---> 37\u001B[0m                                       \u001B[38;5;241m&\u001B[39m (\u001B[43mresults_df\u001B[49m\u001B[43m[\u001B[49m\u001B[38;5;124;43m'\u001B[39;49m\u001B[38;5;124;43msurface_type\u001B[39;49m\u001B[38;5;124;43m'\u001B[39;49m\u001B[43m]\u001B[49m \u001B[38;5;241m==\u001B[39m surface_type)]\n\u001B[1;32m     38\u001B[0m         \u001B[38;5;28;01mfor\u001B[39;00m metric \u001B[38;5;129;01min\u001B[39;00m [\u001B[38;5;124m'\u001B[39m\u001B[38;5;124melbo\u001B[39m\u001B[38;5;124m'\u001B[39m]:\n\u001B[1;32m     39\u001B[0m             colors \u001B[38;5;241m=\u001B[39m plt\u001B[38;5;241m.\u001B[39mrcParams[\u001B[38;5;124m'\u001B[39m\u001B[38;5;124maxes.prop_cycle\u001B[39m\u001B[38;5;124m'\u001B[39m]\u001B[38;5;241m.\u001B[39mby_key()[\u001B[38;5;124m'\u001B[39m\u001B[38;5;124mcolor\u001B[39m\u001B[38;5;124m'\u001B[39m]\n",
      "File \u001B[0;32m~/anaconda3/envs/tlgps/lib/python3.9/site-packages/pandas/core/frame.py:3807\u001B[0m, in \u001B[0;36mDataFrame.__getitem__\u001B[0;34m(self, key)\u001B[0m\n\u001B[1;32m   3805\u001B[0m \u001B[38;5;28;01mif\u001B[39;00m \u001B[38;5;28mself\u001B[39m\u001B[38;5;241m.\u001B[39mcolumns\u001B[38;5;241m.\u001B[39mnlevels \u001B[38;5;241m>\u001B[39m \u001B[38;5;241m1\u001B[39m:\n\u001B[1;32m   3806\u001B[0m     \u001B[38;5;28;01mreturn\u001B[39;00m \u001B[38;5;28mself\u001B[39m\u001B[38;5;241m.\u001B[39m_getitem_multilevel(key)\n\u001B[0;32m-> 3807\u001B[0m indexer \u001B[38;5;241m=\u001B[39m \u001B[38;5;28;43mself\u001B[39;49m\u001B[38;5;241;43m.\u001B[39;49m\u001B[43mcolumns\u001B[49m\u001B[38;5;241;43m.\u001B[39;49m\u001B[43mget_loc\u001B[49m\u001B[43m(\u001B[49m\u001B[43mkey\u001B[49m\u001B[43m)\u001B[49m\n\u001B[1;32m   3808\u001B[0m \u001B[38;5;28;01mif\u001B[39;00m is_integer(indexer):\n\u001B[1;32m   3809\u001B[0m     indexer \u001B[38;5;241m=\u001B[39m [indexer]\n",
      "File \u001B[0;32m~/anaconda3/envs/tlgps/lib/python3.9/site-packages/pandas/core/indexes/base.py:3804\u001B[0m, in \u001B[0;36mIndex.get_loc\u001B[0;34m(self, key, method, tolerance)\u001B[0m\n\u001B[1;32m   3802\u001B[0m     \u001B[38;5;28;01mreturn\u001B[39;00m \u001B[38;5;28mself\u001B[39m\u001B[38;5;241m.\u001B[39m_engine\u001B[38;5;241m.\u001B[39mget_loc(casted_key)\n\u001B[1;32m   3803\u001B[0m \u001B[38;5;28;01mexcept\u001B[39;00m \u001B[38;5;167;01mKeyError\u001B[39;00m \u001B[38;5;28;01mas\u001B[39;00m err:\n\u001B[0;32m-> 3804\u001B[0m     \u001B[38;5;28;01mraise\u001B[39;00m \u001B[38;5;167;01mKeyError\u001B[39;00m(key) \u001B[38;5;28;01mfrom\u001B[39;00m \u001B[38;5;21;01merr\u001B[39;00m\n\u001B[1;32m   3805\u001B[0m \u001B[38;5;28;01mexcept\u001B[39;00m \u001B[38;5;167;01mTypeError\u001B[39;00m:\n\u001B[1;32m   3806\u001B[0m     \u001B[38;5;66;03m# If we have a listlike key, _check_indexing_error will raise\u001B[39;00m\n\u001B[1;32m   3807\u001B[0m     \u001B[38;5;66;03m#  InvalidIndexError. Otherwise we fall through and re-raise\u001B[39;00m\n\u001B[1;32m   3808\u001B[0m     \u001B[38;5;66;03m#  the TypeError.\u001B[39;00m\n\u001B[1;32m   3809\u001B[0m     \u001B[38;5;28mself\u001B[39m\u001B[38;5;241m.\u001B[39m_check_indexing_error(key)\n",
      "\u001B[0;31mKeyError\u001B[0m: 'surface_type'"
     ]
    },
    {
     "data": {
      "text/plain": "<Figure size 669.291x620 with 9 Axes>",
      "image/png": "[encoded data removed]"
     },
     "metadata": {},
     "output_type": "display_data"
    }
   ],
   "source": [
    "from matplotlib.gridspec import SubplotSpec\n",
    "\n",
    "def create_subtitle(fig: plt.Figure, grid: SubplotSpec, title: str):\n",
    "    \"Sign sets of subplots with title\"\n",
    "    row = fig.add_subplot(grid)\n",
    "    # the '\\n' is important\n",
    "    row.set_title(f'{title}\\n', fontsize=12)\n",
    "    # hide subplot\n",
    "    row.set_frame_on(False)\n",
    "    row.axis('off')\n",
    "\n",
    "mod_names = {'indi':'MOGP', 'lmc':'LMC', 'VI':'LVMOGP'}\n",
    "\n",
    "labels = {'indi':{'indi': 'random init'},\n",
    "          'lmc':{'lmc random_W_and_k': 'both W and $\\kappa$ random',\n",
    "                 'lmc random_W_and_k_0': 'W random and $\\kappa=0$',\n",
    "                 'lmc random_W_and_k_1': 'W random and $\\kappa=1$'},\n",
    "          'VI':{'VI semi_random':'semi_random',\n",
    "          'VI random':'random',\n",
    "          'VI gpy':'gpy',\n",
    "                'VI mo_pca': 'PCA'}}\n",
    "\n",
    "surface_types = ['unrelated_two_observed_10_new','linear_relation_two_observed_10_new',\n",
    "                 'non-linear_relation_two_observed_10_new']\n",
    "\n",
    "surface_type_names = {'unrelated_two_observed_10_new':'Uncorrelated','linear_relation_two_observed_10_new':'Linearly Correlated',\n",
    "                 'non-linear_relation_two_observed_10_new':'Non-Linearly Correlated'}\n",
    "seeds = [1, 2, 3]\n",
    "cm = 1/2.54\n",
    "# 'indi', 'lmc', 'VI', 'MAP'\n",
    "# seeds = [1, 2, 3]\n",
    "\n",
    "fig, axs = plt.subplots(nrows=3, ncols=3, figsize=(17*cm, 6.2))\n",
    "grid = plt.GridSpec(3, 3)\n",
    "for k, surface_type in enumerate(surface_types):\n",
    "    for j, seed in enumerate(seeds):\n",
    "\n",
    "            for metric in ['elbo']:\n",
    "                colors = plt.rcParams['axes.prop_cycle'].by_key()['color']\n",
    "                inits = results_df_model.index.unique().to_list()\n",
    "                np.random.shuffle(inits)\n",
    "                for i, init_name in enumerate(inits):\n",
    "                    df = results_df_model[results_df_model.index == init_name]\n",
    "                    dfs_max = []\n",
    "                    dfs_min = []\n",
    "                    for n_train in df['n_train'].unique():\n",
    "                        df_max = df[(df['n_train'] == n_train)]\n",
    "                        df_max = df_max[df_max['elbo'] == df_max['elbo'].max()]\n",
    "                        df_min = df[(df['n_train'] == n_train)]\n",
    "                        df_min = df_min[df_min['elbo'] == df_min['elbo'].min()]\n",
    "                        dfs_min.append(df_min)\n",
    "                        dfs_max.append(df_max)\n",
    "                    dfs_min = pd.concat(dfs_min)\n",
    "                    dfs_max = pd.concat(dfs_max)\n",
    "                    x = dfs_max['n_train']\n",
    "                    y = dfs_max[metric]\n",
    "                    x2 = dfs_min['n_train']\n",
    "                    y2 = dfs_min[metric]\n",
    "                    axs[k,j].plot(x, y, label = labels[model][init_name], color=colors[i])\n",
    "                    axs[k,j].plot(x2, y2,  linewidth=1, linestyle=\":\", color=colors[i]) #label = f'{init_name} min elbo',\n",
    "                    # results_df[results_df['index']==model].plot(x='n_train', y=metric, ax=ax,)\n",
    "                    # axs[0, j].set_title(f'seed {seed}')\n",
    "\n",
    "                    axs[k, j].set_title(f'seed {seed}')\n",
    "        if model == 'VI':\n",
    "            axs[k, 0].set_ylabel('ELBO')\n",
    "        else:\n",
    "            axs[k, 0].set_ylabel('LML')\n",
    "        axs[k, 1].set_xlabel('number of points on new functions')\n",
    "        create_subtitle(fig, grid[k, ::], f'{surface_type_names[surface_type]}')\n",
    "        k+=1\n",
    "\n",
    "    axs[2, 1].legend(loc='lower center', bbox_to_anchor=(0.5, -0.8), ncol=len(labels[model]))\n",
    "    plt.subplots_adjust(hspace=0.9, wspace=0.3)\n",
    "    plt.suptitle(f'{mod_names[model]} Log Marginal Likelihood')\n",
    "    for ax in axs.flat:\n",
    "        ax.locator_params(axis='x', nbins=4)\n",
    "        ax.locator_params(axis='y', nbins=3)\n",
    "\n",
    "    plt.savefig(fig_path+f'/{model}_grid_elbos.png',\n",
    "                bbox_inches='tight', dpi=1000)\n",
    "\n"
   ],
   "metadata": {
    "collapsed": false,
    "pycharm": {
     "name": "#%%\n"
    }
   }
  },
  {
   "cell_type": "markdown",
   "source": [
    "Notebook where we compare the LMLs of each of the models for the different cases and inits."
   ],
   "metadata": {
    "collapsed": false,
    "pycharm": {
     "name": "#%% md\n"
    }
   }
  }
 ],
 "metadata": {
  "kernelspec": {
   "display_name": "Python 3",
   "language": "python",
   "name": "python3"
  },
  "language_info": {
   "codemirror_mode": {
    "name": "ipython",
    "version": 2
   },
   "file_extension": ".py",
   "mimetype": "text/x-python",
   "name": "python",
   "nbconvert_exporter": "python",
   "pygments_lexer": "ipython2",
   "version": "2.7.6"
  }
 },
 "nbformat": 4,
 "nbformat_minor": 0
}