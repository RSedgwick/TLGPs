{
 "cells": [
  {
   "cell_type": "code",
   "execution_count": 130,
   "metadata": {
    "collapsed": true
   },
   "outputs": [],
   "source": [
    "\n",
    "import numpy as np\n",
    "import pathlib as pl\n",
    "import os\n",
    "import pandas as pd\n",
    "import warnings\n",
    "warnings.simplefilter(\"ignore\")\n",
    "import pickle\n",
    "import matplotlib.pyplot as plt\n",
    "import imageio\n",
    "import pathlib as pl"
   ]
  },
  {
   "cell_type": "code",
   "execution_count": 131,
   "outputs": [],
   "source": [
    "model = 'lvmogp' # 'lmc' 'MAP' 'VI' 'indi'\n",
    "relationtype = 'non-linear_relation_two_observed_10_new' #'non-linear_relation_two_observed_six_new' #'linear_relation' #'unrelated'\n",
    "seed = 1\n",
    "# init_type = 'gpy'#'random_W_and_k_0' # 'gpy' #'random_W_and_k_1' #'random_W_and_k_0'\n",
    "# restart = 1"
   ],
   "metadata": {
    "collapsed": false,
    "pycharm": {
     "name": "#%%\n"
    }
   }
  },
  {
   "cell_type": "code",
   "execution_count": 132,
   "outputs": [],
   "source": [
    "path = pl.Path(os.getcwd()).parent/'Results/dataframes/'\n",
    "results_list = []\n",
    "for n_train in range(2,30):\n",
    "    for restarts in [1, 2, 3]:\n",
    "        if os.path.exists(path/f'{model}_{relationtype}_{n_train}_points_{seed}_seed_restart_{restarts}'):\n",
    "            with open(path/f'{model}_{relationtype}_{n_train}_points_{seed}_seed_restart_{restarts}', 'rb') as f:\n",
    "                df = pickle.load(f)\n",
    "                df['n_train'] = n_train\n",
    "                df['model'] = model\n",
    "                df['seed'] = seed\n",
    "                results_list.append(df)\n",
    "results_df = pd.concat(results_list).reset_index()"
   ],
   "metadata": {
    "collapsed": false,
    "pycharm": {
     "name": "#%%\n"
    }
   }
  },
  {
   "cell_type": "code",
   "execution_count": 133,
   "outputs": [],
   "source": [
    "restarts = []\n",
    "n_points = []\n",
    "init_types = []\n",
    "for i in range(30):\n",
    "    df = results_df[results_df['n_train'] == i]\n",
    "    if len(df) > 0:\n",
    "        restart = df.loc[df['elbo']==df['elbo'].max(), 'restart_no'].to_numpy()\n",
    "        n_points.append(i)\n",
    "        restarts.append(restart[0])\n",
    "        init_type = df.loc[df['elbo']==df['elbo'].max(), 'index'].to_numpy()\n",
    "        init_types.append(init_type[0])"
   ],
   "metadata": {
    "collapsed": false,
    "pycharm": {
     "name": "#%%\n"
    }
   }
  },
  {
   "cell_type": "code",
   "execution_count": 134,
   "outputs": [
    {
     "data": {
      "text/plain": "'o_pca'"
     },
     "execution_count": 134,
     "metadata": {},
     "output_type": "execute_result"
    }
   ],
   "source": [
    "init_types[0][4:]"
   ],
   "metadata": {
    "collapsed": false,
    "pycharm": {
     "name": "#%%\n"
    }
   }
  },
  {
   "cell_type": "code",
   "execution_count": 135,
   "outputs": [],
   "source": [
    "# save_path = pl.Path.home()/'gifs_RS021/' /f'{model}_{relationtype}_{seed}_seed_{init_type}_restart_{restart}.gif'\n",
    "# path = pl.Path(os.getcwd()).parent/'plots/'\n",
    "path = pl.Path(os.getcwd())/'plots'\n",
    "\n",
    "if model == 'indi':\n",
    "    filenames = [path / f'{model}_{relationtype}_{n_point}_points_{seed}_seed_restart_{restarts[i]}.png' for i, n_point in\n",
    "                  enumerate(n_points)]\n",
    "elif model== 'lmc':\n",
    "    filenames = [path / f'{model}_{relationtype}_{n_point}_points_{seed}_seed_{init_types[i][4:]}_restart_{restarts[i]}.png' for i, n_point in\n",
    "                  enumerate(n_points)]\n",
    "elif model=='MAP':\n",
    "    filenames = [path / f'{model}_GP_{init_types[i][4:]}_{relationtype}_{n_point}_points_{seed}_seed_restart_{restarts[i]}.png' for i, n_point in\n",
    "                  enumerate(n_points)]\n",
    "else:\n",
    "    filenames = [path / f'{model}_GP_{init_types[i][3:]}_{relationtype}_{n_point}_points_{seed}_seed_restart_{restarts[i]}.png' for i, n_point in\n",
    "                  enumerate(n_points)]"
   ],
   "metadata": {
    "collapsed": false,
    "pycharm": {
     "name": "#%%\n"
    }
   }
  },
  {
   "cell_type": "code",
   "execution_count": 136,
   "outputs": [],
   "source": [
    "for filename in filenames:\n",
    "    if not os.path.exists(filename):\n",
    "        filenames.remove(filename)\n",
    "\n",
    "# images = []\n",
    "# for filename in filenames:\n",
    "#     images.append(imageio.imread(filename))\n",
    "# imageio.mimsave(pl.Path(os.getcwd())/'gifs/' /f'{model}_{relationtype}_{seed}_seed_{init_type}_restart_{restart}.png', images)\n"
   ],
   "metadata": {
    "collapsed": false,
    "pycharm": {
     "name": "#%%\n"
    }
   }
  },
  {
   "cell_type": "code",
   "execution_count": 137,
   "outputs": [],
   "source": [
    "import glob\n",
    "from PIL import Image\n",
    "\n",
    "# filepaths\n",
    "fp_in = filenames\n",
    "fp_out = pl.Path.home()/'gifs_RS021/' /f'{model}_{relationtype}_{seed}_seed_best_elbo.gif'\n",
    "\n",
    "# https://pillow.readthedocs.io/en/stable/handbook/image-file-formats.html#gif\n",
    "imgs = (Image.open(f) for f in fp_in)\n",
    "img = next(imgs)\n",
    "imgs = [Image.open(f) for f in filenames]\n",
    "img1 = imgs[0]\n",
    "img1.save(fp=fp_out, format='GIF', append_images=imgs[1:],\n",
    "         save_all=True, optimize=False, duration=1000, loop=0)\n",
    "\n"
   ],
   "metadata": {
    "collapsed": false,
    "pycharm": {
     "name": "#%%\n"
    }
   }
  },
  {
   "cell_type": "code",
   "execution_count": 138,
   "outputs": [],
   "source": [
    "from packaging import version\n",
    "\n",
    "if version.parse(Image.PILLOW_VERSION) < version.parse(\"3.4\"):\n",
    "    print(\"Pillow in version not supporting making animated gifs\")\n",
    "    print(\"you need to upgrade library version\")\n",
    "    print(\"see release notes in\")\n",
    "    print(\"https://pillow.readthedocs.io/en/latest/releasenotes/3.4.0.html#append-images-to-gif\")"
   ],
   "metadata": {
    "collapsed": false,
    "pycharm": {
     "name": "#%%\n"
    }
   }
  },
  {
   "cell_type": "code",
   "source": [
    "import matplotlib.pyplot as plt\n",
    "\n",
    "import matplotlib.image as mpimg\n",
    "\n",
    "img = mpimg.imread(fp_out)\n",
    "\n",
    "plt.imshow(img)"
   ],
   "metadata": {
    "collapsed": false,
    "pycharm": {
     "name": "#%%\n"
    }
   },
   "execution_count": 139,
   "outputs": [
    {
     "data": {
      "text/plain": "<matplotlib.image.AxesImage at 0x7f0a8260da90>"
     },
     "execution_count": 139,
     "metadata": {},
     "output_type": "execute_result"
    },
    {
     "data": {
      "text/plain": "<Figure size 216x216 with 1 Axes>",
      "image/png": "[encoded data removed]"
     },
     "metadata": {
      "needs_background": "light"
     },
     "output_type": "display_data"
    }
   ]
  },
  {
   "cell_type": "code",
   "execution_count": 140,
   "outputs": [],
   "source": [
    "path = pl.Path(os.getcwd()).parent/'plots/'\n",
    "if model=='MAP':\n",
    "    filenames = [path / f'{model}_latents_{init_types[i][4:]}_{relationtype}_{n_point}_points_{seed}_seed_restart_{restarts[i]}.png' for i, n_point in\n",
    "                  enumerate(n_points)]\n",
    "else:\n",
    "    filenames = [path / f'{model}_latents_{init_types[i][3:]}_{relationtype}_{n_point}_points_{seed}_seed_restart_{restarts[i]}.png' for i, n_point in\n",
    "                  enumerate(n_points)]"
   ],
   "metadata": {
    "collapsed": false,
    "pycharm": {
     "name": "#%%\n"
    }
   }
  },
  {
   "cell_type": "code",
   "execution_count": 141,
   "outputs": [],
   "source": [
    "for filename in filenames:\n",
    "    if not os.path.exists(filename):\n",
    "        filenames.remove(filename)"
   ],
   "metadata": {
    "collapsed": false,
    "pycharm": {
     "name": "#%%\n"
    }
   }
  },
  {
   "cell_type": "code",
   "execution_count": 142,
   "outputs": [
    {
     "ename": "FileNotFoundError",
     "evalue": "[Errno 2] No such file or directory: '/home/ruby/RS025_Synthetic_Experiments/plots/VI_latents_gpy_saturated_non-linear_relation_two_observed_10_new_3_points_1_seed_restart_1.png'",
     "output_type": "error",
     "traceback": [
      "\u001B[0;31m---------------------------------------------------------------------------\u001B[0m",
      "\u001B[0;31mFileNotFoundError\u001B[0m                         Traceback (most recent call last)",
      "\u001B[0;32m/tmp/ipykernel_27848/78829654.py\u001B[0m in \u001B[0;36m<module>\u001B[0;34m\u001B[0m\n\u001B[1;32m      2\u001B[0m \u001B[0;32mfor\u001B[0m \u001B[0mi\u001B[0m\u001B[0;34m,\u001B[0m \u001B[0mn_point\u001B[0m \u001B[0;32min\u001B[0m \u001B[0menumerate\u001B[0m\u001B[0;34m(\u001B[0m\u001B[0mn_points\u001B[0m\u001B[0;34m)\u001B[0m\u001B[0;34m:\u001B[0m\u001B[0;34m\u001B[0m\u001B[0;34m\u001B[0m\u001B[0m\n\u001B[1;32m      3\u001B[0m     \u001B[0mplt\u001B[0m\u001B[0;34m.\u001B[0m\u001B[0mrcParams\u001B[0m\u001B[0;34m[\u001B[0m\u001B[0;34m\"figure.figsize\"\u001B[0m\u001B[0;34m]\u001B[0m \u001B[0;34m=\u001B[0m \u001B[0;34m[\u001B[0m\u001B[0;36m3\u001B[0m\u001B[0;34m,\u001B[0m \u001B[0;36m3\u001B[0m\u001B[0;34m]\u001B[0m\u001B[0;34m\u001B[0m\u001B[0;34m\u001B[0m\u001B[0m\n\u001B[0;32m----> 4\u001B[0;31m     \u001B[0mim\u001B[0m \u001B[0;34m=\u001B[0m \u001B[0mplt\u001B[0m\u001B[0;34m.\u001B[0m\u001B[0mimread\u001B[0m\u001B[0;34m(\u001B[0m\u001B[0mfilenames\u001B[0m\u001B[0;34m[\u001B[0m\u001B[0mi\u001B[0m\u001B[0;34m]\u001B[0m\u001B[0;34m)\u001B[0m \u001B[0;31m# insert local path of the image.\u001B[0m\u001B[0;34m\u001B[0m\u001B[0;34m\u001B[0m\u001B[0m\n\u001B[0m\u001B[1;32m      5\u001B[0m     \u001B[0mfig\u001B[0m\u001B[0;34m,\u001B[0m \u001B[0max\u001B[0m \u001B[0;34m=\u001B[0m \u001B[0mplt\u001B[0m\u001B[0;34m.\u001B[0m\u001B[0msubplots\u001B[0m\u001B[0;34m(\u001B[0m\u001B[0;34m)\u001B[0m\u001B[0;34m\u001B[0m\u001B[0;34m\u001B[0m\u001B[0m\n\u001B[1;32m      6\u001B[0m     \u001B[0max\u001B[0m\u001B[0;34m.\u001B[0m\u001B[0mannotate\u001B[0m\u001B[0;34m(\u001B[0m\u001B[0;34mf'{n_point}'\u001B[0m\u001B[0;34m,\u001B[0m \u001B[0;34m(\u001B[0m\u001B[0;36m20\u001B[0m\u001B[0;34m,\u001B[0m \u001B[0;36m35\u001B[0m\u001B[0;34m)\u001B[0m\u001B[0;34m)\u001B[0m\u001B[0;34m\u001B[0m\u001B[0;34m\u001B[0m\u001B[0m\n",
      "\u001B[0;32m~/anaconda3/envs/gumbi/lib/python3.9/site-packages/matplotlib/pyplot.py\u001B[0m in \u001B[0;36mimread\u001B[0;34m(fname, format)\u001B[0m\n\u001B[1;32m   2137\u001B[0m \u001B[0;34m@\u001B[0m\u001B[0m_copy_docstring_and_deprecators\u001B[0m\u001B[0;34m(\u001B[0m\u001B[0mmatplotlib\u001B[0m\u001B[0;34m.\u001B[0m\u001B[0mimage\u001B[0m\u001B[0;34m.\u001B[0m\u001B[0mimread\u001B[0m\u001B[0;34m)\u001B[0m\u001B[0;34m\u001B[0m\u001B[0;34m\u001B[0m\u001B[0m\n\u001B[1;32m   2138\u001B[0m \u001B[0;32mdef\u001B[0m \u001B[0mimread\u001B[0m\u001B[0;34m(\u001B[0m\u001B[0mfname\u001B[0m\u001B[0;34m,\u001B[0m \u001B[0mformat\u001B[0m\u001B[0;34m=\u001B[0m\u001B[0;32mNone\u001B[0m\u001B[0;34m)\u001B[0m\u001B[0;34m:\u001B[0m\u001B[0;34m\u001B[0m\u001B[0;34m\u001B[0m\u001B[0m\n\u001B[0;32m-> 2139\u001B[0;31m     \u001B[0;32mreturn\u001B[0m \u001B[0mmatplotlib\u001B[0m\u001B[0;34m.\u001B[0m\u001B[0mimage\u001B[0m\u001B[0;34m.\u001B[0m\u001B[0mimread\u001B[0m\u001B[0;34m(\u001B[0m\u001B[0mfname\u001B[0m\u001B[0;34m,\u001B[0m \u001B[0mformat\u001B[0m\u001B[0;34m)\u001B[0m\u001B[0;34m\u001B[0m\u001B[0;34m\u001B[0m\u001B[0m\n\u001B[0m\u001B[1;32m   2140\u001B[0m \u001B[0;34m\u001B[0m\u001B[0m\n\u001B[1;32m   2141\u001B[0m \u001B[0;34m\u001B[0m\u001B[0m\n",
      "\u001B[0;32m~/anaconda3/envs/gumbi/lib/python3.9/site-packages/matplotlib/image.py\u001B[0m in \u001B[0;36mimread\u001B[0;34m(fname, format)\u001B[0m\n\u001B[1;32m   1558\u001B[0m                     \u001B[0mresponse\u001B[0m \u001B[0;34m=\u001B[0m \u001B[0mio\u001B[0m\u001B[0;34m.\u001B[0m\u001B[0mBytesIO\u001B[0m\u001B[0;34m(\u001B[0m\u001B[0mresponse\u001B[0m\u001B[0;34m.\u001B[0m\u001B[0mread\u001B[0m\u001B[0;34m(\u001B[0m\u001B[0;34m)\u001B[0m\u001B[0;34m)\u001B[0m\u001B[0;34m\u001B[0m\u001B[0;34m\u001B[0m\u001B[0m\n\u001B[1;32m   1559\u001B[0m                 \u001B[0;32mreturn\u001B[0m \u001B[0mimread\u001B[0m\u001B[0;34m(\u001B[0m\u001B[0mresponse\u001B[0m\u001B[0;34m,\u001B[0m \u001B[0mformat\u001B[0m\u001B[0;34m=\u001B[0m\u001B[0mext\u001B[0m\u001B[0;34m)\u001B[0m\u001B[0;34m\u001B[0m\u001B[0;34m\u001B[0m\u001B[0m\n\u001B[0;32m-> 1560\u001B[0;31m     \u001B[0;32mwith\u001B[0m \u001B[0mimg_open\u001B[0m\u001B[0;34m(\u001B[0m\u001B[0mfname\u001B[0m\u001B[0;34m)\u001B[0m \u001B[0;32mas\u001B[0m \u001B[0mimage\u001B[0m\u001B[0;34m:\u001B[0m\u001B[0;34m\u001B[0m\u001B[0;34m\u001B[0m\u001B[0m\n\u001B[0m\u001B[1;32m   1561\u001B[0m         return (_pil_png_to_float_array(image)\n\u001B[1;32m   1562\u001B[0m                 \u001B[0;32mif\u001B[0m \u001B[0misinstance\u001B[0m\u001B[0;34m(\u001B[0m\u001B[0mimage\u001B[0m\u001B[0;34m,\u001B[0m \u001B[0mPIL\u001B[0m\u001B[0;34m.\u001B[0m\u001B[0mPngImagePlugin\u001B[0m\u001B[0;34m.\u001B[0m\u001B[0mPngImageFile\u001B[0m\u001B[0;34m)\u001B[0m \u001B[0;32melse\u001B[0m\u001B[0;34m\u001B[0m\u001B[0;34m\u001B[0m\u001B[0m\n",
      "\u001B[0;32m~/anaconda3/envs/gumbi/lib/python3.9/site-packages/PIL/ImageFile.py\u001B[0m in \u001B[0;36m__init__\u001B[0;34m(self, fp, filename)\u001B[0m\n\u001B[1;32m    107\u001B[0m         \u001B[0;32mif\u001B[0m \u001B[0misPath\u001B[0m\u001B[0;34m(\u001B[0m\u001B[0mfp\u001B[0m\u001B[0;34m)\u001B[0m\u001B[0;34m:\u001B[0m\u001B[0;34m\u001B[0m\u001B[0;34m\u001B[0m\u001B[0m\n\u001B[1;32m    108\u001B[0m             \u001B[0;31m# filename\u001B[0m\u001B[0;34m\u001B[0m\u001B[0;34m\u001B[0m\u001B[0m\n\u001B[0;32m--> 109\u001B[0;31m             \u001B[0mself\u001B[0m\u001B[0;34m.\u001B[0m\u001B[0mfp\u001B[0m \u001B[0;34m=\u001B[0m \u001B[0mopen\u001B[0m\u001B[0;34m(\u001B[0m\u001B[0mfp\u001B[0m\u001B[0;34m,\u001B[0m \u001B[0;34m\"rb\"\u001B[0m\u001B[0;34m)\u001B[0m\u001B[0;34m\u001B[0m\u001B[0;34m\u001B[0m\u001B[0m\n\u001B[0m\u001B[1;32m    110\u001B[0m             \u001B[0mself\u001B[0m\u001B[0;34m.\u001B[0m\u001B[0mfilename\u001B[0m \u001B[0;34m=\u001B[0m \u001B[0mfp\u001B[0m\u001B[0;34m\u001B[0m\u001B[0;34m\u001B[0m\u001B[0m\n\u001B[1;32m    111\u001B[0m             \u001B[0mself\u001B[0m\u001B[0;34m.\u001B[0m\u001B[0m_exclusive_fp\u001B[0m \u001B[0;34m=\u001B[0m \u001B[0;32mTrue\u001B[0m\u001B[0;34m\u001B[0m\u001B[0;34m\u001B[0m\u001B[0m\n",
      "\u001B[0;31mFileNotFoundError\u001B[0m: [Errno 2] No such file or directory: '/home/ruby/RS025_Synthetic_Experiments/plots/VI_latents_gpy_saturated_non-linear_relation_two_observed_10_new_3_points_1_seed_restart_1.png'"
     ]
    }
   ],
   "source": [
    "filenames_hs = []\n",
    "for i, n_point in enumerate(n_points):\n",
    "    plt.rcParams[\"figure.figsize\"] = [3, 3]\n",
    "    im = plt.imread(filenames[i]) # insert local path of the image.\n",
    "    fig, ax = plt.subplots()\n",
    "    ax.annotate(f'{n_point}', (20, 35))\n",
    "    ax.imshow(im)\n",
    "    ax.axis('off')\n",
    "    plt.savefig(pl.Path(os.getcwd())/'new_latent_plots'/f'{model}_GP_{relationtype}_'\n",
    "                                                        f'{n_point}_points_{seed}_seed_restart.png')\n",
    "    filenames_hs.append(pl.Path(os.getcwd())/'new_latent_plots'/f'{model}_GP_{relationtype}_'\n",
    "                                                        f'{n_point}_points_{seed}_seed_restart.png')\n",
    "    # plt.show()"
   ],
   "metadata": {
    "collapsed": false,
    "pycharm": {
     "name": "#%%\n"
    }
   }
  },
  {
   "cell_type": "code",
   "execution_count": null,
   "outputs": [],
   "source": [
    "import glob\n",
    "from PIL import Image\n",
    "\n",
    "# filepaths\n",
    "fp_in = filenames\n",
    "fp_out = pl.Path.home()/'gifs_RS021/' /f'{model}_latents_{relationtype}_{seed}_seed_best_elbo.gif'\n",
    "\n",
    "# https://pillow.readthedocs.io/en/stable/handbook/image-file-formats.html#gif\n",
    "imgs = (Image.open(f) for f in filenames_hs)\n",
    "img = next(imgs)\n",
    "imgs = [Image.open(f) for f in filenames_hs]\n",
    "img1 = imgs[0]\n",
    "img1.save(fp=fp_out, format='GIF', append_images=imgs[1:],\n",
    "         save_all=True, optimize=False, duration=1000, loop=0)"
   ],
   "metadata": {
    "collapsed": false,
    "pycharm": {
     "name": "#%%\n"
    }
   }
  },
  {
   "cell_type": "code",
   "execution_count": null,
   "outputs": [],
   "source": [],
   "metadata": {
    "collapsed": false,
    "pycharm": {
     "name": "#%%\n"
    }
   }
  }
 ],
 "metadata": {
  "kernelspec": {
   "display_name": "Python 3",
   "language": "python",
   "name": "python3"
  },
  "language_info": {
   "codemirror_mode": {
    "name": "ipython",
    "version": 2
   },
   "file_extension": ".py",
   "mimetype": "text/x-python",
   "name": "python",
   "nbconvert_exporter": "python",
   "pygments_lexer": "ipython2",
   "version": "2.7.6"
  }
 },
 "nbformat": 4,
 "nbformat_minor": 0
}