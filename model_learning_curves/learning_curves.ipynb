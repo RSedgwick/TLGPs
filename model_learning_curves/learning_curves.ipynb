{
 "cells": [
  {
   "cell_type": "code",
   "execution_count": 42,
   "metadata": {
    "collapsed": true,
    "pycharm": {
     "name": "#%%\n"
    }
   },
   "outputs": [],
   "source": [
    "import numpy as np\n",
    "import tensorflow as tf\n",
    "import matplotlib.pyplot as plt\n",
    "from models.utils import build_models, train_models, get_final_models_dict, plot_lmls, get_metrics\n",
    "\n",
    "import os\n",
    "import pathlib as pl\n",
    "from gpflow.utilities import read_values\n",
    "import pickle\n",
    "import sys\n",
    "\n",
    "os.environ['CUDA_VISIBLE_DEVICES'] = '-1'\n",
    "\n",
    "# make sure tensorflow doesn't use too many cpus\n",
    "tf.config.threading.set_intra_op_parallelism_threads(5)\n",
    "tf.config.threading.set_inter_op_parallelism_threads(5)"
   ]
  },
  {
   "cell_type": "code",
   "execution_count": 43,
   "outputs": [],
   "source": [
    "# define variables\n",
    "sys_args = [0, 3, 1, 2] #sys.argv[:]\n",
    "\n",
    "n_new_points = int(sys_args[1])  # number of points on new surfaces\n",
    "seed = int(sys_args[2])  # seed\n",
    "relation_type = int(sys_args[3])  # type of relationship between surfaces\n",
    "\n",
    "if relation_type == 1:\n",
    "    surface_type = 'unrelated'\n",
    "    from models.test_functions import TestFunUncorrelated as TestFun\n",
    "elif relation_type == 2:\n",
    "    surface_type = 'linear_relation'\n",
    "    from models.test_functions import TestFunLinearCorrelation as TestFun\n",
    "elif relation_type == 3:\n",
    "    surface_type = 'non-linear_relation'\n",
    "    from models.test_functions import TestFunNonLinearCorrelation as TestFun\n",
    "\n",
    "else:\n",
    "    raise ValueError('relation_type must be in {1, 2, 3}')\n",
    "\n",
    "set_seed = True\n",
    "\n",
    "if set_seed:\n",
    "    np.random.seed(seed)\n",
    "    tf.random.set_seed(seed)\n",
    "else:\n",
    "    seed = None\n",
    "\n",
    "plot_figs = True\n",
    "train_inducing = True  # whether we train the inducing points or not\n",
    "\n",
    "model_names = ['lmc', 'mo_indi', 'lvmogp', 'avg'] # 'lvmogp',\n",
    "n_new_funs = 10\n",
    "data_type_name = f'two_observed_{n_new_funs}_new'\n",
    "n_fun = 2 + n_new_funs\n",
    "total_train = 30 * 2 + 3 * n_new_points  # total number of training points\n",
    "n_points = [30] * 2 + [n_new_points] * n_new_funs  # number of points on each surface\n",
    "\n",
    "domain = [0, 2]\n",
    "latent_dims = 2\n",
    "latent_dims_lvmogp = 2\n",
    "observed_dims = 1\n",
    "max_points = 60\n",
    "same_points = False\n",
    "\n",
    "noise = 0.05\n",
    "n_grid_points = 100\n",
    "continuous_dims = ['x1', 'x2'][:observed_dims]\n",
    "lengthscales_x = [0.3, 0.3]\n",
    "\n",
    "plot_path = pl.Path.home() / f'Transfer_Learning_GP_Results/plots/'"
   ],
   "metadata": {
    "collapsed": false,
    "pycharm": {
     "name": "#%%\n"
    }
   }
  },
  {
   "cell_type": "code",
   "execution_count": 44,
   "outputs": [],
   "source": [
    "# make test function\n",
    "\n",
    "test_fun = TestFun(domain, seed, n_fun, observed_dims, latent_dims, max_points, noise, n_grid_points, same_points,\n",
    "                   lengthscales_x)\n",
    "\n",
    "data_X, fun_nos, data_y = test_fun.create_data(n_points=n_points)\n",
    "\n",
    "# have option to plot and save test function\n",
    "\n",
    "if plot_figs:\n",
    "    test_fun.plot_data_seperate_plots()\n",
    "    plt.savefig(plot_path / f'data_seperate_{surface_type}_{data_type_name}_{n_new_points}_points_seed_{seed}.png')\n",
    "    plt.close()"
   ],
   "metadata": {
    "collapsed": false,
    "pycharm": {
     "name": "#%%\n"
    }
   }
  },
  {
   "cell_type": "code",
   "execution_count": 45,
   "outputs": [
    {
     "name": "stdout",
     "output_type": "stream",
     "text": [
      "successful build model lmc, restart 0, init_type random_W_and_k\n",
      "successful build model lmc, restart 0, init_type random_W_and_k_0\n",
      "successful build model lmc, restart 0, init_type random_W_and_k_1\n",
      "successful build model mo_indi, restart 0, init_type random restart 1\n",
      "successful build model mo_indi, restart 0, init_type random restart 2\n",
      "successful build model mo_indi, restart 0, init_type random restart 3\n",
      "successful build model lvmogp, restart 0, init_type random\n",
      "successful build model lvmogp, restart 0, init_type mo_pca\n",
      "successful build model lvmogp, restart 0, init_type gpy\n",
      "successful build model avg, restart 0, init_type random restart 1\n",
      "successful build model avg, restart 0, init_type random restart 2\n",
      "successful build model avg, restart 0, init_type random restart 3\n"
     ]
    },
    {
     "name": "stderr",
     "output_type": "stream",
     "text": [
      "/home/ruby/anaconda3/envs/tlgps/lib/python3.9/site-packages/numpy/core/_methods.py:164: VisibleDeprecationWarning: Creating an ndarray from ragged nested sequences (which is a list-or-tuple of lists-or-tuples-or ndarrays with different lengths or shapes) is deprecated. If you meant to do this, you must specify 'dtype=object' when creating the ndarray.\n",
      "  arr = asanyarray(a)\n"
     ]
    }
   ],
   "source": [
    "models_dict = build_models(model_names, data_X, data_y, fun_nos, n_fun, observed_dims, latent_dims, latent_dims_lvmogp,\n",
    "                           domain, n_restarts=1)"
   ],
   "metadata": {
    "collapsed": false,
    "pycharm": {
     "name": "#%%\n"
    }
   }
  },
  {
   "cell_type": "code",
   "execution_count": null,
   "outputs": [
    {
     "name": "stdout",
     "output_type": "stream",
     "text": [
      "successful train lmc, restart 0, init_type random_W_and_k\n",
      "successful train lmc, restart 0, init_type random_W_and_k_0\n"
     ]
    }
   ],
   "source": [
    "models_dict, lmls = train_models(models_dict)"
   ],
   "metadata": {
    "collapsed": false,
    "pycharm": {
     "name": "#%%\n",
     "is_executing": true
    }
   }
  },
  {
   "cell_type": "code",
   "execution_count": null,
   "outputs": [],
   "source": [
    "final_models_dict = get_final_models_dict(models_dict)"
   ],
   "metadata": {
    "collapsed": false,
    "pycharm": {
     "name": "#%%\n",
     "is_executing": true
    }
   }
  },
  {
   "cell_type": "code",
   "execution_count": null,
   "outputs": [],
   "source": [
    "from gpflow.base import _cast_to_dtype\n",
    "from gpflow.config import default_float\n",
    "n_points = 100\n",
    "x_new = np.linspace(domain[0], domain[1], n_points).reshape(n_points, 1)\n",
    "fun_nos = np.hstack([[fun_no] * n_points for fun_no in range(n_fun)]).reshape(n_points*n_fun, observed_dims)\n",
    "test = np.tile(x_new.flatten(), n_fun)\n",
    "x_new_lmc = np.hstack([np.tile(x_new.flatten(), n_fun).reshape(n_points*n_fun, observed_dims), fun_nos])\n",
    "\n",
    "if 'lvmogp' in final_models_dict.keys():\n",
    "    lvmogp = final_models_dict['lvmogp']\n",
    "\n",
    "    H_mean_vect = tf.reshape(tf.gather(_cast_to_dtype(lvmogp.H_data_mean, dtype=default_float()),\n",
    "                                       _cast_to_dtype(fun_nos, dtype=tf.int64)),\n",
    "                             [len(np.tile(x_new.flatten(), n_fun)), lvmogp.H_data_mean.numpy().shape[1]])\n",
    "    H_var_vect = tf.reshape(tf.gather(_cast_to_dtype(lvmogp.H_data_var, dtype=default_float()),\n",
    "                                      _cast_to_dtype(fun_nos, dtype=tf.int64)),\n",
    "                            [len(np.tile(x_new.flatten(), n_fun)), lvmogp.H_data_mean.numpy().shape[1]])\n",
    "\n",
    "    Xnew_mean = tf.concat([tf.convert_to_tensor(np.tile(x_new.flatten(), n_fun), default_float()), H_mean_vect], axis=1)\n",
    "    Xnew_var = tf.concat([tf.zeros(np.tile(x_new.flatten(), n_fun).shape, dtype=default_float()), H_var_vect], axis=1)\n",
    "    x_new_lvmogp = [Xnew_mean, Xnew_var]\n",
    "else:\n",
    "    x_new_lvmogp = None"
   ],
   "metadata": {
    "collapsed": false,
    "pycharm": {
     "name": "#%%\n",
     "is_executing": true
    }
   }
  },
  {
   "cell_type": "code",
   "execution_count": null,
   "outputs": [],
   "source": [
    "from models.utils import get_nlpd, get_abs_error\n",
    "import pandas as pd\n",
    "\n",
    "model_x_news = {'avg': x_new, 'mo_indi': x_new_lmc, 'lmc': x_new_lmc, 'lvmogp': x_new_lvmogp}\n",
    "\n",
    "# get the true data values at the grid points\n",
    "ys_new = []\n",
    "for fun in test_fun.functions:\n",
    "    y_new, _ = fun.predict_y(x_new.reshape(100, 1))\n",
    "    ys_new.append(y_new)\n",
    "\n",
    "res_dfs = []\n",
    "for model_name, model in final_models_dict.items():\n",
    "    NLPDs = []\n",
    "    RMSEs = []\n",
    "    NLPDs_new_only = []\n",
    "    RMSEs_new_only = []\n",
    "    x = model_x_news[model_name]\n",
    "    pred_mu, pred_var = model.predict_y(x)\n",
    "    fig, axs = plt.subplots(nrows=1, ncols=n_fun, figsize=(20, 3))\n",
    "    for i, fun_no in enumerate(range(n_fun)):\n",
    "        if model_name == 'avg':\n",
    "            idx = range(len(x_new))\n",
    "        else:\n",
    "            idx = range(n_points*i, n_points*(i+1))\n",
    "        mu = pred_mu.numpy()[idx].flatten()\n",
    "        axs[i].plot(x_new, pred_mu.numpy()[idx].flatten())\n",
    "        axs[i].fill_between(x_new.flatten(), pred_mu.numpy()[idx].flatten()+ np.sqrt(pred_var.numpy()[idx].flatten()),\n",
    "                            pred_mu.numpy()[idx].flatten() - np.sqrt(pred_var.numpy()[idx].flatten()), alpha=0.2)\n",
    "        axs[i].plot(x_new, ys_new[i].numpy(), linestyle=':')\n",
    "        idx_train = np.where([test_fun.fun_no==fun_no])[1]\n",
    "        axs[i].scatter(test_fun.X[idx_train], test_fun.y[idx_train])\n",
    "        axs[i].set_ylim(np.min(data_y)-0.2, np.max(data_y)+0.2)\n",
    "        sig2 = pred_var.numpy()[idx].flatten()\n",
    "        nlpds = get_nlpd(mu, sig2,  ys_new[i].numpy().flatten())\n",
    "        abs_errors = get_abs_error(mu, ys_new[i].numpy().flatten())\n",
    "        NLPDs.append(nlpds)\n",
    "        RMSEs.append(abs_errors)\n",
    "        if fun_no >= (n_fun - n_new_funs):\n",
    "            # print(fun_no)\n",
    "            NLPDs_new_only.append(nlpds)\n",
    "            RMSEs_new_only.append(abs_errors)\n",
    "    nlpd = np.mean(NLPDs)\n",
    "    rmse = np.sqrt(np.mean(np.square(RMSEs)))\n",
    "    nlpd_new_only = np.mean(NLPDs_new_only)\n",
    "    rmse_new_only = np.sqrt(np.mean(np.square(RMSEs_new_only)))\n",
    "    row_df = pd.DataFrame(data=[[model_name, nlpd, rmse, nlpd_new_only, rmse_new_only,\n",
    "                                model.maximum_log_likelihood_objective().numpy()]],\n",
    "                          columns=['model', 'nlpd', 'rmse', 'nlpd_new_surface', 'rmse_new_surface',  'lml'])\n",
    "    res_dfs.append(row_df)\n",
    "\n",
    "results_df = pd.concat(res_dfs)"
   ],
   "metadata": {
    "collapsed": false,
    "pycharm": {
     "name": "#%%\n",
     "is_executing": true
    }
   }
  },
  {
   "cell_type": "code",
   "execution_count": null,
   "outputs": [],
   "source": [
    "plot_lmls(lmls)"
   ],
   "metadata": {
    "collapsed": false,
    "pycharm": {
     "name": "#%%\n",
     "is_executing": true
    }
   }
  },
  {
   "cell_type": "code",
   "execution_count": null,
   "outputs": [],
   "source": [
    "print(results_df)"
   ],
   "metadata": {
    "collapsed": false,
    "pycharm": {
     "name": "#%%\n",
     "is_executing": true
    }
   }
  },
  {
   "cell_type": "code",
   "execution_count": null,
   "outputs": [],
   "source": [],
   "metadata": {
    "collapsed": false,
    "pycharm": {
     "name": "#%%\n",
     "is_executing": true
    }
   }
  },
  {
   "cell_type": "code",
   "execution_count": null,
   "outputs": [],
   "source": [],
   "metadata": {
    "collapsed": false,
    "pycharm": {
     "name": "#%%\n",
     "is_executing": true
    }
   }
  }
 ],
 "metadata": {
  "kernelspec": {
   "display_name": "Python 3",
   "language": "python",
   "name": "python3"
  },
  "language_info": {
   "codemirror_mode": {
    "name": "ipython",
    "version": 2
   },
   "file_extension": ".py",
   "mimetype": "text/x-python",
   "name": "python",
   "nbconvert_exporter": "python",
   "pygments_lexer": "ipython2",
   "version": "2.7.6"
  }
 },
 "nbformat": 4,
 "nbformat_minor": 0
}